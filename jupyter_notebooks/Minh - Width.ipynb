{
 "cells": [
  {
   "cell_type": "markdown",
   "metadata": {},
   "source": [
    "# Minh - Width\n",
    "\n",
    "Load data"
   ]
  },
  {
   "cell_type": "code",
   "execution_count": 1,
   "metadata": {},
   "outputs": [],
   "source": [
    "import pandas as pd\n",
    "import numpy as np\n",
    "import re\n",
    "from tqdm.auto import tqdm\n",
    "\n",
    "origin_df = pd.read_csv('data/stage_1.csv', low_memory=False)\n",
    "origin_df = origin_df.fillna('')\n",
    "origin_df = origin_df.astype('str')"
   ]
  },
  {
   "cell_type": "code",
   "execution_count": 2,
   "metadata": {},
   "outputs": [],
   "source": [
    "df = origin_df.copy()"
   ]
  },
  {
   "cell_type": "code",
   "execution_count": 3,
   "metadata": {},
   "outputs": [],
   "source": [
    "def process_width(df):\n",
    "    '''\n",
    "    Input: data frame\n",
    "    Output: processed data frame\n",
    "    '''\n",
    "    metric1 = (df.width != '').sum() / df.shape[0]\n",
    "    \n",
    "    def preprocess_width_cell(x):\n",
    "        if x:\n",
    "            found = re.search(r'\\d+,\\d+|\\d+\\.\\d+|\\d+', x)         \n",
    "            if found:\n",
    "                x = found.group().replace(',', '.')\n",
    "            else:\n",
    "                x = ''\n",
    "        return x\n",
    "    \n",
    "    def extract_width(description):\n",
    "        keywords = ['mặt tiền rộng', 'mặt tiền rộng hơn', 'mặt tiền', 'mt']\n",
    "        for k in keywords:\n",
    "            found_index = description.find(k)\n",
    "\n",
    "            if found_index != -1:\n",
    "                a = description[found_index + len(k):found_index + len(k) + 10]\n",
    "\n",
    "                found = re.search(r'\\d+,\\d+m|\\d+,\\d+|\\d+\\.\\d+|\\d+m|\\d+ mét', a)\n",
    "                if found:\n",
    "                    found = found.group()\n",
    "\n",
    "                    return found\n",
    "        return None\n",
    "    \n",
    "    df.width = df.width.apply(preprocess_width_cell)\n",
    "\n",
    "    new_df = df[['width']].copy()\n",
    "    \n",
    "    count_found = 0\n",
    "    for i, row in tqdm(new_df.iterrows(), total=new_df.shape[0]):\n",
    "        description = df.at[i, 'description']\n",
    "        width = row['width']\n",
    "\n",
    "        if description and width == '':\n",
    "            description = description.lower()\n",
    "\n",
    "            found = extract_width(description)\n",
    "            if found:\n",
    "                count_found += 1\n",
    "                new_df.at[i, 'width'] = found\n",
    "\n",
    "    metric2 = count_found\n",
    "\n",
    "    df.width = new_df.width.apply(preprocess_width_cell)\n",
    "    \n",
    "    metric3 = (df.width != '').sum() / df.shape[0]\n",
    "    \n",
    "    print(f\"Summary: \")\n",
    "    print(f\"Not null 1: {metric1}\")\n",
    "    print(f\"Extracted from description: {metric2}\")\n",
    "    print(f\"Not null 2: {metric3}\")\n",
    "\n",
    "    return df\n",
    "\n",
    "    "
   ]
  },
  {
   "cell_type": "code",
   "execution_count": 4,
   "metadata": {},
   "outputs": [
    {
     "data": {
      "application/vnd.jupyter.widget-view+json": {
       "model_id": "aae0b8784db94f5896381763dca28b43",
       "version_major": 2,
       "version_minor": 0
      },
      "text/plain": [
       "  0%|          | 0/314395 [00:00<?, ?it/s]"
      ]
     },
     "metadata": {},
     "output_type": "display_data"
    },
    {
     "name": "stdout",
     "output_type": "stream",
     "text": [
      "Summary: \n",
      "Not null 1: 0.6700583660681627\n",
      "Extracted from description: 42029\n",
      "Not null 2: 0.6015044768523673\n"
     ]
    }
   ],
   "source": [
    "df = process_width(df)"
   ]
  }
 ],
 "metadata": {
  "kernelspec": {
   "display_name": "Python 3",
   "language": "python",
   "name": "python3"
  },
  "language_info": {
   "codemirror_mode": {
    "name": "ipython",
    "version": 3
   },
   "file_extension": ".py",
   "mimetype": "text/x-python",
   "name": "python",
   "nbconvert_exporter": "python",
   "pygments_lexer": "ipython3",
   "version": "3.8.5"
  }
 },
 "nbformat": 4,
 "nbformat_minor": 4
}
