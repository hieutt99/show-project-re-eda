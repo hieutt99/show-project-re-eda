{
 "cells": [
  {
   "cell_type": "markdown",
   "metadata": {},
   "source": [
    "# Minh - Furniture\n",
    "\n",
    "Load data"
   ]
  },
  {
   "cell_type": "code",
   "execution_count": 1,
   "metadata": {},
   "outputs": [],
   "source": [
    "import pandas as pd\n",
    "import numpy as np\n",
    "import re\n",
    "from tqdm.auto import tqdm\n",
    "\n",
    "origin_df = pd.read_csv('data/stage_5.csv', low_memory=False)\n",
    "origin_df = origin_df.fillna('')\n",
    "origin_df = origin_df.astype('str')\n"
   ]
  },
  {
   "cell_type": "code",
   "execution_count": 2,
   "metadata": {},
   "outputs": [],
   "source": [
    "df = origin_df.copy()"
   ]
  },
  {
   "cell_type": "code",
   "execution_count": 3,
   "metadata": {
    "scrolled": false
   },
   "outputs": [],
   "source": [
    "def process_furniture(df):\n",
    "    '''\n",
    "    Input: data frame\n",
    "    Output: processed data frame\n",
    "    '''\n",
    "    def process_furniture_cell(x):\n",
    "        if x:\n",
    "            if x != '0' and x != '1':\n",
    "                x = '1'\n",
    "        return x\n",
    "    \n",
    "    metric1 = (df.furniture != '').sum() / df.shape[0]\n",
    "    \n",
    "    def extract_furniture_from_description(description):\n",
    "        dl = description.lower()\n",
    "        positive_keywords = ['nt đầy đủ', 'nt hiện đại', 'nt châu âu', 'nt vip', 'nt cơ bản', 'nt: ', 'nt : ', 'toàn bộ nt', 'ntcc', 'nt sang trọng', 'nt cao cấp', 'tbnt', 'nội thất', 'nt theo nhà', 'full nt', 'nt trong nhà', 'nt tiền tỷ', 'nt tiền tỉ', 'tặng nt']\n",
    "        negative_keywords = ['không nt', 'không nội thất', 'ko nt']\n",
    "\n",
    "        value = None\n",
    "        \n",
    "        for k in positive_keywords:\n",
    "            found_index = dl.find(k)\n",
    "\n",
    "            if found_index != -1:\n",
    "                value = '1'\n",
    "                break\n",
    "        \n",
    "        has_negative = False\n",
    "        for k in negative_keywords:\n",
    "            found_index = dl.find(k)\n",
    "            \n",
    "            if found_index != -1:\n",
    "                has_negative = True\n",
    "                break\n",
    "        \n",
    "        if has_negative:\n",
    "            value = '0'\n",
    "        \n",
    "        return value\n",
    "    \n",
    "    df.furniture = df.furniture.apply(process_furniture_cell)\n",
    "    \n",
    "    new_df = df[['furniture']].copy()\n",
    "\n",
    "    count_found = 0\n",
    "    for i, row in tqdm(df.iterrows(), total=df.shape[0]):        \n",
    "        if not row.furniture and row.description:\n",
    "            value = extract_furniture_from_description(row.description)\n",
    "            \n",
    "            if value:\n",
    "                count_found += 1\n",
    "                new_df.at[i, 'furniture'] = value\n",
    "    \n",
    "    \n",
    "    metric2 = count_found\n",
    "\n",
    "    df.furniture = new_df.furniture.apply(process_furniture_cell)\n",
    "    \n",
    "    metric3 = (df.furniture != '').sum() / df.shape[0]\n",
    "    \n",
    "    print(f\"Summary: \")\n",
    "    print(f\"Not null 1: {metric1}\")\n",
    "    print(f\"Extracted from description: {metric2}\")\n",
    "    print(f\"Not null 2: {metric3}\")\n",
    "\n",
    "    return df\n"
   ]
  },
  {
   "cell_type": "code",
   "execution_count": 4,
   "metadata": {
    "scrolled": true
   },
   "outputs": [
    {
     "data": {
      "application/vnd.jupyter.widget-view+json": {
       "model_id": "e25703356f444248a25eb31117307792",
       "version_major": 2,
       "version_minor": 0
      },
      "text/plain": [
       "  0%|          | 0/311837 [00:00<?, ?it/s]"
      ]
     },
     "metadata": {},
     "output_type": "display_data"
    },
    {
     "name": "stdout",
     "output_type": "stream",
     "text": [
      "Summary: \n",
      "Not null 1: 0.0031394606797782174\n",
      "Extracted from description: 70589\n",
      "Not null 2: 0.2295045167828064\n"
     ]
    }
   ],
   "source": [
    "df = process_furniture(df)"
   ]
  },
  {
   "cell_type": "code",
   "execution_count": 7,
   "metadata": {},
   "outputs": [],
   "source": [
    "df.to_csv('stage_6.csv', index=False)"
   ]
  }
 ],
 "metadata": {
  "kernelspec": {
   "display_name": "Python 3",
   "language": "python",
   "name": "python3"
  },
  "language_info": {
   "codemirror_mode": {
    "name": "ipython",
    "version": 3
   },
   "file_extension": ".py",
   "mimetype": "text/x-python",
   "name": "python",
   "nbconvert_exporter": "python",
   "pygments_lexer": "ipython3",
   "version": "3.8.5"
  }
 },
 "nbformat": 4,
 "nbformat_minor": 4
}
