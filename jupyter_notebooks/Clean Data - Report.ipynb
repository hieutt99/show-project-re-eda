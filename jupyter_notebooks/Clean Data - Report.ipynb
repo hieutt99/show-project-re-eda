{
 "cells": [
  {
   "cell_type": "markdown",
   "metadata": {},
   "source": [
    "# Clean Data - Report\n",
    "\n",
    "We have crawled more than 250k data of real estate in Hanoi from these websites:\n",
    "- nha.chotot.com\n",
    "- seonhadat.vn\n",
    "- inhadat.vn\n",
    "\n",
    "Our strategy for cleaning data is to preprocess column by column. By that, we can divide our tasks more efficently and make it easier to debug. The data frame will be cleaned through each stages.  \n"
   ]
  },
  {
   "cell_type": "code",
   "execution_count": 1,
   "metadata": {},
   "outputs": [],
   "source": [
    "# import all libraries\n",
    "import pandas as pd\n",
    "import numpy as np\n",
    "import re\n",
    "from tqdm.auto import tqdm\n",
    "from matplotlib import pyplot as plt\n",
    "from data_preprocess.process_utils import *"
   ]
  },
  {
   "cell_type": "markdown",
   "metadata": {},
   "source": [
    "## Stage 0: Finish crawling data step"
   ]
  },
  {
   "cell_type": "code",
   "execution_count": 2,
   "metadata": {},
   "outputs": [],
   "source": [
    "origin_df = pd.read_csv('data/stage_0.csv', low_memory=False)\n",
    "origin_df = origin_df.fillna('')\n",
    "origin_df = origin_df.astype('str')"
   ]
  },
  {
   "cell_type": "markdown",
   "metadata": {},
   "source": [
    "## Stage 1: Filter rows by real estate type\n",
    "We only concern about the data of house, apartment or mansion so we filter out other real estates type like restaurant, hotel, land lot..."
   ]
  },
  {
   "cell_type": "code",
   "execution_count": 3,
   "metadata": {
    "scrolled": true
   },
   "outputs": [
    {
     "data": {
      "application/vnd.jupyter.widget-view+json": {
       "model_id": "3264716fae0542c6a075aeb7d5129eb8",
       "version_major": 2,
       "version_minor": 0
      },
      "text/plain": [
       "  0%|          | 0/265985 [00:00<?, ?it/s]"
      ]
     },
     "metadata": {},
     "output_type": "display_data"
    },
    {
     "name": "stdout",
     "output_type": "stream",
     "text": [
      "(256443, 15)\n"
     ]
    },
    {
     "data": {
      "application/vnd.jupyter.widget-view+json": {
       "model_id": "f0697685dc0d41bface2b99ff7ea9daf",
       "version_major": 2,
       "version_minor": 0
      },
      "text/plain": [
       "  0%|          | 0/256443 [00:00<?, ?it/s]"
      ]
     },
     "metadata": {},
     "output_type": "display_data"
    },
    {
     "data": {
      "application/vnd.jupyter.widget-view+json": {
       "model_id": "5b2c4ed6c5d74070a6051341f4dd7a81",
       "version_major": 2,
       "version_minor": 0
      },
      "text/plain": [
       "  0%|          | 0/256443 [00:00<?, ?it/s]"
      ]
     },
     "metadata": {},
     "output_type": "display_data"
    },
    {
     "data": {
      "application/vnd.jupyter.widget-view+json": {
       "model_id": "c1b8785e33e64c35b1bf1327c7154308",
       "version_major": 2,
       "version_minor": 0
      },
      "text/plain": [
       "  0%|          | 0/256443 [00:00<?, ?it/s]"
      ]
     },
     "metadata": {},
     "output_type": "display_data"
    },
    {
     "name": "stdout",
     "output_type": "stream",
     "text": [
      "(256432, 15)\n"
     ]
    }
   ],
   "source": [
    "try:\n",
    "    df_1 = pd.read_csv('data/stage_1.csv', low_memory=False)\n",
    "    df_1 = df_1.fillna('')\n",
    "    df_1 = df_1.astype('str')\n",
    "except Exception:\n",
    "    df_1 = origin_df.copy()\n",
    "    df_1 = process_type(df_1)\n",
    "\n",
    "    "
   ]
  },
  {
   "cell_type": "code",
   "execution_count": 4,
   "metadata": {},
   "outputs": [
    {
     "data": {
      "text/plain": [
       "(256432, 15)"
      ]
     },
     "execution_count": 4,
     "metadata": {},
     "output_type": "execute_result"
    }
   ],
   "source": [
    "df_1.shape"
   ]
  },
  {
   "cell_type": "markdown",
   "metadata": {},
   "source": [
    "## Stage 2: Process field 'width'"
   ]
  },
  {
   "cell_type": "code",
   "execution_count": 5,
   "metadata": {},
   "outputs": [
    {
     "data": {
      "application/vnd.jupyter.widget-view+json": {
       "model_id": "5ce3f2a6b7204ce6aa92ccfff4dc35db",
       "version_major": 2,
       "version_minor": 0
      },
      "text/plain": [
       "  0%|          | 0/256432 [00:00<?, ?it/s]"
      ]
     },
     "metadata": {},
     "output_type": "display_data"
    },
    {
     "name": "stdout",
     "output_type": "stream",
     "text": [
      "Summary: \n",
      "Not null 1: 0.8214731390778062\n",
      "Extracted from description: 30880\n",
      "Not null 2: 0.6939461533661946\n"
     ]
    }
   ],
   "source": [
    "try:\n",
    "    df_2 = pd.read_csv('data/stage_2.csv', low_memory=False)\n",
    "    df_2 = df_2.fillna('')\n",
    "    df_2 = df_2.astype('str')\n",
    "except Exception:\n",
    "    df_2 = df_1.copy()\n",
    "    df_2 = process_width(df_2)"
   ]
  },
  {
   "cell_type": "code",
   "execution_count": 6,
   "metadata": {},
   "outputs": [
    {
     "data": {
      "text/plain": [
       "(256432, 15)"
      ]
     },
     "execution_count": 6,
     "metadata": {},
     "output_type": "execute_result"
    }
   ],
   "source": [
    "df_2.shape"
   ]
  },
  {
   "cell_type": "markdown",
   "metadata": {},
   "source": [
    "## Stage 3: Process field 'furniture'"
   ]
  },
  {
   "cell_type": "code",
   "execution_count": 7,
   "metadata": {},
   "outputs": [
    {
     "data": {
      "application/vnd.jupyter.widget-view+json": {
       "model_id": "057e3f2fff0e473bae1a827a451027b4",
       "version_major": 2,
       "version_minor": 0
      },
      "text/plain": [
       "  0%|          | 0/256432 [00:00<?, ?it/s]"
      ]
     },
     "metadata": {},
     "output_type": "display_data"
    },
    {
     "name": "stdout",
     "output_type": "stream",
     "text": [
      "Summary: \n",
      "Not null 1: 0.003817776252573782\n",
      "Extracted from description: 61840\n",
      "Not null 2: 0.244973326261933\n"
     ]
    }
   ],
   "source": [
    "try:\n",
    "    df_3 = pd.read_csv('data/stage_3.csv', low_memory=False)\n",
    "    df_3 = df_3.fillna('')\n",
    "    df_3 = df_3.astype('str')\n",
    "except Exception:\n",
    "    df_3 = df_2.copy()\n",
    "    df_3 = process_furniture(df_3)    "
   ]
  },
  {
   "cell_type": "markdown",
   "metadata": {},
   "source": [
    "## Stage 4: Process field 'price'"
   ]
  },
  {
   "cell_type": "code",
   "execution_count": 8,
   "metadata": {
    "scrolled": false
   },
   "outputs": [
    {
     "data": {
      "application/vnd.jupyter.widget-view+json": {
       "model_id": "a5cff67f23e44df39861dc5f253a9a11",
       "version_major": 2,
       "version_minor": 0
      },
      "text/plain": [
       "  0%|          | 0/256432 [00:00<?, ?it/s]"
      ]
     },
     "metadata": {},
     "output_type": "display_data"
    },
    {
     "name": "stdout",
     "output_type": "stream",
     "text": [
      "Summary: \n",
      "Not null 1: 1.0\n",
      "Extracted from description: 227523\n",
      "Not null 2: 0.9995788357147314\n"
     ]
    }
   ],
   "source": [
    "try:\n",
    "    df_4 = pd.read_csv('data/stage_4.csv', low_memory=False)\n",
    "    df_4 = df_4.fillna('')\n",
    "    df_4 = df_4.astype('str')\n",
    "except Exception:\n",
    "    df_4 = df_3.copy()\n",
    "    df_4 = process_price(df_4)  "
   ]
  },
  {
   "cell_type": "code",
   "execution_count": 9,
   "metadata": {},
   "outputs": [
    {
     "data": {
      "text/plain": [
       "(256432, 15)"
      ]
     },
     "execution_count": 9,
     "metadata": {},
     "output_type": "execute_result"
    }
   ],
   "source": [
    "df_4.shape"
   ]
  },
  {
   "cell_type": "markdown",
   "metadata": {},
   "source": [
    "## Stage 5: Process field 'location'"
   ]
  },
  {
   "cell_type": "code",
   "execution_count": 10,
   "metadata": {
    "scrolled": true
   },
   "outputs": [
    {
     "data": {
      "application/vnd.jupyter.widget-view+json": {
       "model_id": "4dedf718d2174cc0b8a1fe92223312f6",
       "version_major": 2,
       "version_minor": 0
      },
      "text/plain": [
       "|          | 0/? [00:00<?, ?it/s]"
      ]
     },
     "metadata": {},
     "output_type": "display_data"
    },
    {
     "name": "stdout",
     "output_type": "stream",
     "text": [
      "0.8199093716852811\n"
     ]
    }
   ],
   "source": [
    "try:\n",
    "    df_5 = pd.read_csv('data/stage_5.csv', low_memory=False)\n",
    "    df_5 = df_5.fillna('')\n",
    "    df_5 = df_5.astype('str')\n",
    "except Exception:\n",
    "    df_5 = df_4.copy()\n",
    "    df_5 = process_location(df_5) "
   ]
  },
  {
   "cell_type": "code",
   "execution_count": 11,
   "metadata": {},
   "outputs": [
    {
     "data": {
      "text/plain": [
       "(210251, 15)"
      ]
     },
     "execution_count": 11,
     "metadata": {},
     "output_type": "execute_result"
    }
   ],
   "source": [
    "df_5.shape"
   ]
  },
  {
   "cell_type": "markdown",
   "metadata": {},
   "source": [
    "## Stage 6: Process field 'floorNumber'"
   ]
  },
  {
   "cell_type": "code",
   "execution_count": 12,
   "metadata": {},
   "outputs": [
    {
     "data": {
      "application/vnd.jupyter.widget-view+json": {
       "model_id": "19c66ad43ddc411d8cf19ef507a8400f",
       "version_major": 2,
       "version_minor": 0
      },
      "text/plain": [
       "  0%|          | 0/210251 [00:00<?, ?it/s]"
      ]
     },
     "metadata": {},
     "output_type": "display_data"
    },
    {
     "data": {
      "application/vnd.jupyter.widget-view+json": {
       "model_id": "20a0ee3e7f4f43a3b4f69ff0f93911a2",
       "version_major": 2,
       "version_minor": 0
      },
      "text/plain": [
       "  0%|          | 0/210251 [00:00<?, ?it/s]"
      ]
     },
     "metadata": {},
     "output_type": "display_data"
    },
    {
     "data": {
      "application/vnd.jupyter.widget-view+json": {
       "model_id": "f516f54b73774c65a3bedf797c5043a8",
       "version_major": 2,
       "version_minor": 0
      },
      "text/plain": [
       "  0%|          | 0/195161 [00:00<?, ?it/s]"
      ]
     },
     "metadata": {},
     "output_type": "display_data"
    },
    {
     "name": "stdout",
     "output_type": "stream",
     "text": [
      "(195161, 15)\n",
      "0 195161\n"
     ]
    }
   ],
   "source": [
    "try:\n",
    "    df_6 = pd.read_csv('data/stage_6.csv', low_memory=False)\n",
    "    df_6 = df_6.fillna('')\n",
    "    df_6 = df_6.astype('str')\n",
    "except Exception:\n",
    "    df_6 = df_5.copy()\n",
    "    df_6 = process_floorNumber(df_6) "
   ]
  },
  {
   "cell_type": "code",
   "execution_count": 13,
   "metadata": {},
   "outputs": [
    {
     "data": {
      "text/plain": [
       "(195161, 15)"
      ]
     },
     "execution_count": 13,
     "metadata": {},
     "output_type": "execute_result"
    }
   ],
   "source": [
    "df_6.shape"
   ]
  },
  {
   "cell_type": "markdown",
   "metadata": {},
   "source": [
    "## Stage 7: Process field 're_license'"
   ]
  },
  {
   "cell_type": "code",
   "execution_count": 14,
   "metadata": {},
   "outputs": [
    {
     "data": {
      "application/vnd.jupyter.widget-view+json": {
       "model_id": "fd0b51d392e54407b51a71e583e8db69",
       "version_major": 2,
       "version_minor": 0
      },
      "text/plain": [
       "|          | 0/? [00:00<?, ?it/s]"
      ]
     },
     "metadata": {},
     "output_type": "display_data"
    },
    {
     "data": {
      "application/vnd.jupyter.widget-view+json": {
       "model_id": "a92859bff0db4c48b5ca4e6a4cd57ea4",
       "version_major": 2,
       "version_minor": 0
      },
      "text/plain": [
       "|          | 0/? [00:00<?, ?it/s]"
      ]
     },
     "metadata": {},
     "output_type": "display_data"
    },
    {
     "data": {
      "application/vnd.jupyter.widget-view+json": {
       "model_id": "f806a2279f18466fafc1b2d021d1dbe4",
       "version_major": 2,
       "version_minor": 0
      },
      "text/plain": [
       "|          | 0/? [00:00<?, ?it/s]"
      ]
     },
     "metadata": {},
     "output_type": "display_data"
    },
    {
     "name": "stdout",
     "output_type": "stream",
     "text": [
      "30891\n"
     ]
    }
   ],
   "source": [
    "try:\n",
    "    df_7 = pd.read_csv('data/stage_7.csv', low_memory=False)\n",
    "    df_7 = df_7.fillna('')\n",
    "    df_7 = df_7.astype('str')\n",
    "except Exception:\n",
    "    df_7 = df_6.copy()\n",
    "    df_7 = process_re_license(df_7) "
   ]
  },
  {
   "cell_type": "code",
   "execution_count": 15,
   "metadata": {},
   "outputs": [
    {
     "data": {
      "text/plain": [
       "array(['đã có sổ', '', 'Giấy tờ hợp lệ', 'chưa có giấy tờ'], dtype=object)"
      ]
     },
     "execution_count": 15,
     "metadata": {},
     "output_type": "execute_result"
    }
   ],
   "source": [
    "df_7.re_license.unique()"
   ]
  },
  {
   "cell_type": "markdown",
   "metadata": {},
   "source": [
    "## Stage 8: Process field 'areaNumber'"
   ]
  },
  {
   "cell_type": "code",
   "execution_count": 16,
   "metadata": {},
   "outputs": [
    {
     "data": {
      "application/vnd.jupyter.widget-view+json": {
       "model_id": "fd636573ea594275a5cc3c96c57c418a",
       "version_major": 2,
       "version_minor": 0
      },
      "text/plain": [
       "|          | 0/? [00:00<?, ?it/s]"
      ]
     },
     "metadata": {},
     "output_type": "display_data"
    },
    {
     "data": {
      "application/vnd.jupyter.widget-view+json": {
       "model_id": "f421ba154f304f8a97eaf3d707c29382",
       "version_major": 2,
       "version_minor": 0
      },
      "text/plain": [
       "|          | 0/? [00:00<?, ?it/s]"
      ]
     },
     "metadata": {},
     "output_type": "display_data"
    },
    {
     "data": {
      "application/vnd.jupyter.widget-view+json": {
       "model_id": "a989f9e8d017443ca309d6468743907f",
       "version_major": 2,
       "version_minor": 0
      },
      "text/plain": [
       "|          | 0/? [00:00<?, ?it/s]"
      ]
     },
     "metadata": {},
     "output_type": "display_data"
    },
    {
     "name": "stdout",
     "output_type": "stream",
     "text": [
      "0\n"
     ]
    }
   ],
   "source": [
    "try:\n",
    "    df_8 = pd.read_csv('data/stage_8.csv', low_memory=False)\n",
    "    df_8 = df_8.fillna('')\n",
    "    df_8 = df_8.astype('str')\n",
    "except Exception:\n",
    "    df_8 = df_7.copy()\n",
    "    df_8 = process_re_license(df_8)\n",
    "\n",
    "    del df_8['toiletNumber']"
   ]
  },
  {
   "cell_type": "code",
   "execution_count": 17,
   "metadata": {},
   "outputs": [
    {
     "data": {
      "text/plain": [
       "['areaNumber',\n",
       " 'bedroomNumber',\n",
       " 'date_post',\n",
       " 'description',\n",
       " 'floorNumber',\n",
       " 'furniture',\n",
       " 'location',\n",
       " 'postTitle',\n",
       " 'price',\n",
       " 'price_m2',\n",
       " 're_license',\n",
       " 're_type',\n",
       " 'url',\n",
       " 'width']"
      ]
     },
     "execution_count": 17,
     "metadata": {},
     "output_type": "execute_result"
    }
   ],
   "source": [
    "list(df_8)"
   ]
  },
  {
   "cell_type": "markdown",
   "metadata": {},
   "source": [
    "## Stage 9: Process field 'bedroomNumber'"
   ]
  },
  {
   "cell_type": "code",
   "execution_count": 18,
   "metadata": {
    "scrolled": true
   },
   "outputs": [
    {
     "data": {
      "application/vnd.jupyter.widget-view+json": {
       "model_id": "b1459f588caf4937bb582cf5d1ebdca9",
       "version_major": 2,
       "version_minor": 0
      },
      "text/plain": [
       "  0%|          | 0/195161 [00:00<?, ?it/s]"
      ]
     },
     "metadata": {},
     "output_type": "display_data"
    },
    {
     "data": {
      "application/vnd.jupyter.widget-view+json": {
       "model_id": "5ef6f2d882234dae94c806b594671ced",
       "version_major": 2,
       "version_minor": 0
      },
      "text/plain": [
       "  0%|          | 0/195161 [00:00<?, ?it/s]"
      ]
     },
     "metadata": {},
     "output_type": "display_data"
    },
    {
     "data": {
      "application/vnd.jupyter.widget-view+json": {
       "model_id": "6974875fc0fc4bfdb1689e75b419bcef",
       "version_major": 2,
       "version_minor": 0
      },
      "text/plain": [
       "  0%|          | 0/195161 [00:00<?, ?it/s]"
      ]
     },
     "metadata": {},
     "output_type": "display_data"
    },
    {
     "name": "stdout",
     "output_type": "stream",
     "text": [
      "28057\n",
      "195161\n"
     ]
    }
   ],
   "source": [
    "try:\n",
    "    df_9 = pd.read_csv('data/stage_9.csv', low_memory=False)\n",
    "    df_9 = df_9.fillna('')\n",
    "    df_9 = df_9.astype('str')\n",
    "except Exception:\n",
    "    df_9 = df_8.copy()\n",
    "    df_9 = process_bedroomNumber(df_9)"
   ]
  },
  {
   "cell_type": "markdown",
   "metadata": {},
   "source": [
    "## Stage 10: Process field 'price_m2'"
   ]
  },
  {
   "cell_type": "code",
   "execution_count": 19,
   "metadata": {},
   "outputs": [
    {
     "data": {
      "application/vnd.jupyter.widget-view+json": {
       "model_id": "0d1e8acc789e4cb9b165a0e1494cd730",
       "version_major": 2,
       "version_minor": 0
      },
      "text/plain": [
       "  0%|          | 0/195161 [00:00<?, ?it/s]"
      ]
     },
     "metadata": {},
     "output_type": "display_data"
    },
    {
     "name": "stdout",
     "output_type": "stream",
     "text": [
      "Summary: \n",
      "Not null 1: 0.3250137066319603\n",
      "Extracted from description: 617\n",
      "Not null 2: 0.9995183463909285\n"
     ]
    }
   ],
   "source": [
    "try:\n",
    "    df_10 = pd.read_csv('data/stage_10.csv', low_memory=False)\n",
    "    df_10 = df_10.fillna('')\n",
    "    df_10 = df_10.astype('str')\n",
    "except Exception:\n",
    "    df_10 = df_9.copy()\n",
    "    df_10 = process_price_m2(df_10)"
   ]
  },
  {
   "cell_type": "markdown",
   "metadata": {},
   "source": [
    "## Stage 11: Finalize data"
   ]
  },
  {
   "cell_type": "code",
   "execution_count": 20,
   "metadata": {
    "scrolled": false
   },
   "outputs": [
    {
     "name": "stdout",
     "output_type": "stream",
     "text": [
      "<class 'pandas.core.frame.DataFrame'>\n",
      "Int64Index: 195161 entries, 1 to 265973\n",
      "Data columns (total 14 columns):\n",
      " #   Column         Non-Null Count   Dtype  \n",
      "---  ------         --------------   -----  \n",
      " 0   areaNumber     195161 non-null  float64\n",
      " 1   bedroomNumber  167104 non-null  float64\n",
      " 2   date_post      195161 non-null  object \n",
      " 3   description    195161 non-null  object \n",
      " 4   floorNumber    195161 non-null  float64\n",
      " 5   furniture      46598 non-null   float64\n",
      " 6   location       195161 non-null  object \n",
      " 7   postTitle      195161 non-null  object \n",
      " 8   price          195097 non-null  float64\n",
      " 9   price_m2       195067 non-null  float64\n",
      " 10  re_license     195161 non-null  object \n",
      " 11  re_type        195161 non-null  object \n",
      " 12  url            195161 non-null  object \n",
      " 13  width          140208 non-null  float64\n",
      "dtypes: float64(7), object(7)\n",
      "memory usage: 26.4+ MB\n"
     ]
    }
   ],
   "source": [
    "def process_float_cell(x):\n",
    "    found = re.search(r'\\d+\\.\\d+|\\d+,\\d+|\\d+', x)\n",
    "    \n",
    "    if found:\n",
    "        value = float(found.group().replace(',', '.'))\n",
    "        \n",
    "        return value\n",
    "    return np.nan\n",
    "\n",
    "df_11 = df_10.copy()\n",
    "df_11.areaNumber = df_10.areaNumber.apply(process_float_cell)\n",
    "df_11.bedroomNumber = df_10.bedroomNumber.apply(process_float_cell)\n",
    "df_11.floorNumber = df_10.floorNumber.apply(process_float_cell)\n",
    "df_11.furniture = df_10.furniture.apply(process_float_cell)\n",
    "df_11.price = df_10.price.apply(process_float_cell)\n",
    "df_11.price_m2 = df_10.price_m2.apply(process_float_cell)\n",
    "df_11.width = df_10.width.apply(process_float_cell)\n",
    "\n",
    "\n",
    "df_11.info()"
   ]
  }
 ],
 "metadata": {
  "kernelspec": {
   "display_name": "Python 3",
   "language": "python",
   "name": "python3"
  },
  "language_info": {
   "codemirror_mode": {
    "name": "ipython",
    "version": 3
   },
   "file_extension": ".py",
   "mimetype": "text/x-python",
   "name": "python",
   "nbconvert_exporter": "python",
   "pygments_lexer": "ipython3",
   "version": "3.8.5"
  }
 },
 "nbformat": 4,
 "nbformat_minor": 4
}
