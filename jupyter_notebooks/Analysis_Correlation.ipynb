{
 "cells": [
  {
   "cell_type": "markdown",
   "metadata": {},
   "source": [
    "# Hieu - Correlation\n",
    "\n",
    "Load data"
   ]
  },
  {
   "cell_type": "code",
   "execution_count": 1,
   "metadata": {},
   "outputs": [],
   "source": [
    "\n",
    "import pandas as pd\n",
    "import numpy as np\n",
    "import re\n",
    "from tqdm.auto import tqdm\n",
    "\n",
    "origin_df = pd.read_csv('data/final_data/stage_11.csv', low_memory=False)\n"
   ]
  },
  {
   "cell_type": "code",
   "execution_count": 2,
   "metadata": {},
   "outputs": [],
   "source": [
    "def getColumn(data, column_name, index = None):\n",
    "\t'''\n",
    "\tinput pd dataframe\n",
    "\toutput : \n",
    "\tif index = None list of column data\n",
    "\tif index not None : indexed data\n",
    "\t'''\n",
    "\tif data.empty:\n",
    "\t\treturn []\n",
    "\n",
    "\tres = data[column_name].tolist()\n",
    "\tif index != None:\n",
    "\t\tres = res[index]\n",
    "\treturn res\n",
    "\n",
    "def summarizeColumn(data, column_name):\n",
    "    '''\n",
    "    get all the form of data appear in the column in type list\n",
    "    '''\n",
    "    res = getColumn(data, column_name)\n",
    "    res = set(res)\n",
    "    res = list(res)\n",
    "    return res"
   ]
  },
  {
   "cell_type": "code",
   "execution_count": 3,
   "metadata": {},
   "outputs": [],
   "source": [
    "def correlation(df): \n",
    "    folder = 'data'\n",
    "    list_quan = summarizeColumn(df, 'location')\n",
    "    from scipy.stats import pearsonr, spearmanr\n",
    "    # =====================================================================\n",
    "    cdf = pd.read_csv(os.path.join(folder, 'thu_nhap_binh_quan.csv'))\n",
    "    cdf = cdf[cdf['district'].isin(list_quan)]\n",
    "    cdf = cdf.filter(['district', '2018'])\n",
    "    avgs = []\n",
    "    for item in cdf['district']:\n",
    "        temp = df[(df.location==item)&(df.price!='')]\n",
    "        temp = temp['price'].astype('float32')\n",
    "        avg = temp.mean()\n",
    "        avgs.append(avg)\n",
    "    new_df = pd.DataFrame(avgs, columns = ['price'])\n",
    "\n",
    "    print(\"Correlation of price and average income of 2018\")\n",
    "    pearson = pearsonr(new_df['price'], cdf['2018'])\n",
    "    spearman = spearmanr(new_df['price'], cdf['2018'])\n",
    "    print(f\"Pearson : {pearson[0]} , Spearman : {spearman[0]}\")\n",
    "    print(f\"Pearson p-value: {pearson[1]} , Spearman p-value: {spearman[1]}\")\n",
    "    # =======================================================================\n",
    "    ddf = pd.read_csv(os.path.join(folder, 'pop_average_per_m2.csv'))\n",
    "    ddf = ddf[ddf['district'].isin(list_quan)]\n",
    "    avgs = []\n",
    "    for item in ddf['district']:\n",
    "        temp = df[(df.location==item)&(df.price!='')]\n",
    "        temp = temp['price'].astype('float32')\n",
    "        avg = temp.mean()\n",
    "        avgs.append(avg)\n",
    "    new_df = pd.DataFrame(avgs, columns = ['price'])\n",
    "    print(\"Correlation of price and average population of 2018\")\n",
    "    pearson = pearsonr(new_df['price'], ddf['2019'])\n",
    "    spearman = spearmanr(new_df['price'], ddf['2019'])\n",
    "    print(f\"Pearson : {pearson[0]} , Spearman : {spearman[0]}\")\n",
    "    print(f\"Pearson p-value: {pearson[1]} , Spearman p-value: {spearman[1]}\")\n",
    "\n"
   ]
  },
  {
   "cell_type": "code",
   "execution_count": 6,
   "metadata": {},
   "outputs": [],
   "source": [
    "import os\n",
    "\n",
    "new_df = origin_df.copy()"
   ]
  },
  {
   "cell_type": "code",
   "execution_count": 8,
   "metadata": {},
   "outputs": [
    {
     "name": "stdout",
     "output_type": "stream",
     "text": [
      "Correlation of price and average income of 2018\n",
      "Pearson : 0.2996391129141784 , Spearman : 0.4338461538461538\n",
      "Pearson p-value: 0.14562116267895064 , Spearman p-value: 0.030252826751616755\n",
      "Correlation of price and average population of 2018\n",
      "Pearson : -0.1683387063393448 , Spearman : 0.15445665445665446\n",
      "Pearson p-value: 0.40128006635204577 , Spearman p-value: 0.4417527030638726\n"
     ]
    }
   ],
   "source": [
    "correlation(new_df)"
   ]
  }
 ],
 "metadata": {
  "kernelspec": {
   "display_name": "Python 3",
   "language": "python",
   "name": "python3"
  },
  "language_info": {
   "codemirror_mode": {
    "name": "ipython",
    "version": 3
   },
   "file_extension": ".py",
   "mimetype": "text/x-python",
   "name": "python",
   "nbconvert_exporter": "python",
   "pygments_lexer": "ipython3",
   "version": "3.8.5"
  }
 },
 "nbformat": 4,
 "nbformat_minor": 4
}