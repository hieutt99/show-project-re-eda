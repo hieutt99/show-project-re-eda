{
 "cells": [
  {
   "cell_type": "markdown",
   "metadata": {},
   "source": [
    "# Minh - Price\n",
    "\n",
    "Load data"
   ]
  },
  {
   "cell_type": "code",
   "execution_count": 1,
   "metadata": {},
   "outputs": [],
   "source": [
    "import pandas as pd\n",
    "import numpy as np\n",
    "import re\n",
    "from tqdm.auto import tqdm\n",
    "\n",
    "origin_df = pd.read_csv('data/stage_9.csv', low_memory=False)\n",
    "origin_df = origin_df.fillna('')\n",
    "origin_df = origin_df.astype('str')\n"
   ]
  },
  {
   "cell_type": "code",
   "execution_count": 2,
   "metadata": {},
   "outputs": [],
   "source": [
    "df = origin_df.copy()"
   ]
  },
  {
   "cell_type": "code",
   "execution_count": 3,
   "metadata": {},
   "outputs": [
    {
     "data": {
      "text/plain": [
       "1.0"
      ]
     },
     "execution_count": 3,
     "metadata": {},
     "output_type": "execute_result"
    }
   ],
   "source": [
    "(df.price != '').sum() / df.shape[0]"
   ]
  },
  {
   "cell_type": "code",
   "execution_count": 4,
   "metadata": {},
   "outputs": [],
   "source": [
    "# def extract_unit(x):\n",
    "#     if isinstance(x, str):\n",
    "#         return ' '.join(x.split(' ')[1:])\n",
    "#     return ''\n",
    "\n",
    "# units = df.price.copy().apply(extract_unit)\n",
    "\n",
    "# units = list(units.unique())\n",
    "\n",
    "# include_keywords = ['triệu', 'tỷ', 'thỷ', 'tyr', 'triỷ' 't?', 'ngàn']\n",
    "# exclude_keywords = ['/ phòng', '/tháng', '/\\xa0m,2,\\xa0\\xa0', 'm2', '/\\xa0m,2,']\n",
    "\n",
    "# filtered_units = []\n",
    "# for u in units:\n",
    "#     u = u.lower()\n",
    "#     for k in include_keywords:\n",
    "#         if k in u:\n",
    "#             filtered_units.append(u.strip())\n",
    "#             break\n",
    "\n",
    "# units = []\n",
    "# for u in filtered_units:\n",
    "#     u = u.lower()\n",
    "#     flag = True\n",
    "#     for k in exclude_keywords:\n",
    "#         if k in u:\n",
    "#             flag = False\n",
    "#             break\n",
    "    \n",
    "#     if flag:\n",
    "#         units.append(u)\n",
    "\n",
    "# set(units)"
   ]
  },
  {
   "cell_type": "markdown",
   "metadata": {},
   "source": [
    "We can see that there are some fields should be long to the price_m2 column. \n",
    "\n",
    "There is only 1 field endswith 'đ' in 1_5 and it is equal 0 so it need to be set to NaN.\n",
    "\n",
    "Some field\n",
    "\n",
    "So before continuing to extract data from description, we need to move those fields to price_m2 column.\n",
    "\n"
   ]
  },
  {
   "cell_type": "code",
   "execution_count": 5,
   "metadata": {},
   "outputs": [],
   "source": [
    "# correct field price_m2\n",
    "\n",
    "# price_m2_keywords = ['/\\xa0m,2,\\xa0\\xa0', 'm2', '/\\xa0m,2,']\n",
    "\n",
    "# count_move = 0\n",
    "# for i, row in df.iterrows():\n",
    "#     if row.price and not row.price_m2:\n",
    "#         p = row.price.lower()\n",
    "#         for k in price_m2_keywords:\n",
    "#             if k in p:\n",
    "#                 # move to price_m2\n",
    "#                 df.at[i, 'price_m2'] = row.price\n",
    "#                 df.at[i, 'price'] = ''\n",
    "#                 count_move += 1"
   ]
  },
  {
   "cell_type": "code",
   "execution_count": 6,
   "metadata": {
    "scrolled": false
   },
   "outputs": [],
   "source": [
    "def process_price(df):\n",
    "    '''\n",
    "    Input: data frame\n",
    "    Output: processed data frame\n",
    "    '''\n",
    "    def process_price_cell(x):\n",
    "        price_pattern = r'\\d+,\\d+|\\d+\\.\\d+|\\d+'\n",
    "        if x:\n",
    "            if 'tỷ' in x and 'ngàn' in x:# process 'XXX ty YYY ngan'\n",
    "                found = re.findall(r'\\d+', x)\n",
    "                if found:\n",
    "                    x = '.'.join(found)\n",
    "                else:\n",
    "                    x = ''\n",
    "            elif 'triệu' in x and 'tỷ' not in x: # process 'XXX trieu'\n",
    "                found = re.search(price_pattern, x)\n",
    "                if found:\n",
    "                    try:\n",
    "                        price = float(found.group().replace(',', '.'))\n",
    "\n",
    "                        x = str(price / 1000)\n",
    "                    except Exception:\n",
    "                        x = ''\n",
    "                        pass\n",
    "                else:\n",
    "                    x = ''\n",
    "            else:# process 'XXX ty' and some other cases\n",
    "                found = re.search(price_pattern, x)\n",
    "                if found:\n",
    "                    x = found.group().replace(',', '.')\n",
    "                else:\n",
    "                    x = ''\n",
    "        return x\n",
    "    \n",
    "    metric1 = (df.price != '').sum() / df.shape[0]\n",
    "    \n",
    "    df.price = df.price.apply(process_price_cell)\n",
    "    \n",
    "    new_df = df[['price']].copy()\n",
    "    \n",
    "    def extract_price_from_description(description):\n",
    "        unit_pattern = r'tỷ|tỷ|tỉ|TỶ|Tỷ|Tỷ|Tỉ|TỈ|ty|Ty|TY'        \n",
    "        first_price_pattern = r'(?:\\d+\\.{1,2}\\d+|\\d+,\\d+|\\d+) *$'\n",
    "        last_price_pattern = r'^ *(?:\\d+\\.{1,2}\\d+|\\d+,\\d+|\\d+)'\n",
    "\n",
    "        a = ''\n",
    "        b = ''\n",
    "        found_index = 0\n",
    "        found = False\n",
    "        \n",
    "        fdl = re.finditer(unit_pattern, description)\n",
    "        \n",
    "        if fdl:\n",
    "            for fd in fdl:\n",
    "                found_index = fd.start()\n",
    "\n",
    "                a = description[max(0, found_index - 15): found_index]\n",
    "                \n",
    "                found = re.findall(first_price_pattern, a)\n",
    "\n",
    "                if found:\n",
    "                    b = description[found_index + 2: found_index + 2 + 4]\n",
    "\n",
    "                    if re.search(r'm²|m2|mét vuông', b):\n",
    "                        # this is price_m2 information\n",
    "                        return None\n",
    "\n",
    "                    found = found[-1]\n",
    "\n",
    "                    found_fraction = re.search(last_price_pattern, b)\n",
    "                    if found_fraction:\n",
    "                        found += '.' + found_fraction.group()\n",
    "\n",
    "                    return found + ' tỷ'\n",
    "        \n",
    "        return None\n",
    "\n",
    "    count_found = 0\n",
    "    for i, row in tqdm(df.iterrows(), total=df.shape[0]):\n",
    "        found = None\n",
    "        if row.description:\n",
    "            found = extract_price_from_description(row.description)\n",
    "            \n",
    "        if not found and row.postTitle:\n",
    "            found = extract_price_from_description(row.postTitle)\n",
    "            \n",
    "        if found:\n",
    "            count_found += 1\n",
    "            new_df.at[i, 'price'] = found\n",
    "\n",
    "    metric2 = count_found\n",
    "\n",
    "    df.price = new_df.price.apply(process_price_cell)\n",
    "    \n",
    "    metric3 = (df.price != '').sum() / df.shape[0]\n",
    "    \n",
    "    print(f\"Summary: \")\n",
    "    print(f\"Not null 1: {metric1}\")\n",
    "    print(f\"Extracted from description: {metric2}\")\n",
    "    print(f\"Not null 2: {metric3}\")\n",
    "\n",
    "    return df\n"
   ]
  },
  {
   "cell_type": "code",
   "execution_count": 7,
   "metadata": {},
   "outputs": [],
   "source": [
    "df = origin_df.copy()"
   ]
  },
  {
   "cell_type": "code",
   "execution_count": 8,
   "metadata": {},
   "outputs": [
    {
     "data": {
      "application/vnd.jupyter.widget-view+json": {
       "model_id": "4c0c47e644e9497fbf3dc3aa95ecd80b",
       "version_major": 2,
       "version_minor": 0
      },
      "text/plain": [
       "  0%|          | 0/205732 [00:00<?, ?it/s]"
      ]
     },
     "metadata": {},
     "output_type": "display_data"
    },
    {
     "name": "stdout",
     "output_type": "stream",
     "text": [
      "Summary: \n",
      "Not null 1: 1.0\n",
      "Extracted from description: 183902\n",
      "Not null 2: 1.0\n"
     ]
    }
   ],
   "source": [
    "new_df = process_price(df)\n"
   ]
  },
  {
   "cell_type": "code",
   "execution_count": 9,
   "metadata": {},
   "outputs": [
    {
     "data": {
      "text/plain": [
       "1.0"
      ]
     },
     "execution_count": 9,
     "metadata": {},
     "output_type": "execute_result"
    }
   ],
   "source": [
    "(new_df.price != '').sum() / new_df.shape[0]"
   ]
  },
  {
   "cell_type": "code",
   "execution_count": 10,
   "metadata": {},
   "outputs": [],
   "source": [
    "new_df.to_csv('stage_9.csv', index=False)"
   ]
  }
 ],
 "metadata": {
  "kernelspec": {
   "display_name": "Python 3",
   "language": "python",
   "name": "python3"
  },
  "language_info": {
   "codemirror_mode": {
    "name": "ipython",
    "version": 3
   },
   "file_extension": ".py",
   "mimetype": "text/x-python",
   "name": "python",
   "nbconvert_exporter": "python",
   "pygments_lexer": "ipython3",
   "version": "3.8.5"
  }
 },
 "nbformat": 4,
 "nbformat_minor": 4
}
